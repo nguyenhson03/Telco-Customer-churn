{
  "metadata": {
    "kernelspec": {
      "name": "python3",
      "display_name": "Python 3",
      "language": "python"
    },
    "language_info": {
      "name": "python",
      "version": "3.10.13",
      "mimetype": "text/x-python",
      "codemirror_mode": {
        "name": "ipython",
        "version": 3
      },
      "pygments_lexer": "ipython3",
      "nbconvert_exporter": "python",
      "file_extension": ".py"
    },
    "kaggle": {
      "accelerator": "none",
      "dataSources": [
        {
          "sourceId": 18858,
          "sourceType": "datasetVersion",
          "datasetId": 13996
        }
      ],
      "dockerImageVersionId": 30732,
      "isInternetEnabled": true,
      "language": "python",
      "sourceType": "notebook",
      "isGpuEnabled": false
    },
    "colab": {
      "name": "Telco-Customer-Churn",
      "provenance": [],
      "include_colab_link": true
    }
  },
  "nbformat_minor": 0,
  "nbformat": 4,
  "cells": [
    {
      "cell_type": "markdown",
      "metadata": {
        "id": "view-in-github",
        "colab_type": "text"
      },
      "source": [
        "<a href=\"https://colab.research.google.com/github/nguyenhson03/Telco-Customer-churn/blob/main/Telco_Customer_Churn.ipynb\" target=\"_parent\"><img src=\"https://colab.research.google.com/assets/colab-badge.svg\" alt=\"Open In Colab\"/></a>"
      ]
    },
    {
      "source": [
        "# IMPORTANT: RUN THIS CELL IN ORDER TO IMPORT YOUR KAGGLE DATA SOURCES,\n",
        "# THEN FEEL FREE TO DELETE THIS CELL.\n",
        "# NOTE: THIS NOTEBOOK ENVIRONMENT DIFFERS FROM KAGGLE'S PYTHON\n",
        "# ENVIRONMENT SO THERE MAY BE MISSING LIBRARIES USED BY YOUR\n",
        "# NOTEBOOK.\n",
        "import kagglehub\n",
        "blastchar_telco_customer_churn_path = kagglehub.dataset_download('blastchar/telco-customer-churn')\n",
        "\n",
        "print('Data source import complete.')\n"
      ],
      "metadata": {
        "id": "bx0gHG7XAP4t"
      },
      "cell_type": "code",
      "outputs": [],
      "execution_count": null
    },
    {
      "cell_type": "markdown",
      "source": [
        "<div style=\"background-color:lightblue; padding:20px; text-align:center; font-weight: bold;\">\n",
        "    <h1>Description of columns 📞:</h1>\n",
        "</div>\n"
      ],
      "metadata": {
        "id": "E8FkDyI5AP4u"
      }
    },
    {
      "cell_type": "markdown",
      "source": [
        "* customerID: Unique customer identifier.\n",
        "\n",
        "* gender: Customer's gender .\n",
        "\n",
        "* SeniorCitizen: Indicates senior citizen status .\n",
        "\n",
        "* Partner: Indicates if customer has a partner .\n",
        "\n",
        "* Dependents: Indicates if customer has dependents .\n",
        "\n",
        "* tenure: Number of months with the company.\n",
        "\n",
        "* PhoneService: Indicates phone service .\n",
        "\n",
        "* MultipleLines: Indicates multiple lines .\n",
        "\n",
        "* InternetService: Type of internet service .\n",
        "\n",
        "* OnlineSecurity: Online security service .\n",
        "\n",
        "* OnlineBackup: Online backup service .\n",
        "\n",
        "* DeviceProtection: Device protection service .\n",
        "\n",
        "* TechSupport: Tech support service .\n",
        "\n",
        "* StreamingTV: Streaming TV service .\n",
        "\n",
        "* StreamingMovies: Streaming movies service .\n",
        "\n",
        "* Contract: Contract type .\n",
        "\n",
        "* PaperlessBilling: Paperless billing .\n",
        "\n",
        "* PaymentMethod: Payment method .\n",
        "\n",
        "* MonthlyCharges: Monthly charges.\n",
        "\n",
        "* TotalCharges: Total charges.\n",
        "\n",
        "* Churn: Indicates if customer churned.\n"
      ],
      "metadata": {
        "id": "V85QEkSKAP4v"
      }
    },
    {
      "cell_type": "markdown",
      "source": [
        "<div style=\"background-color:lightblue; padding:20px; text-align:center; font-weight: bold;\">\n",
        "    <h1>Import some important libaraies :</h1>\n",
        "</div>\n"
      ],
      "metadata": {
        "id": "JuZZFFMVAP4w"
      }
    },
    {
      "cell_type": "code",
      "source": [
        "import pandas as pd\n",
        "import numpy as np\n",
        "import matplotlib.pyplot as plt\n",
        "import seaborn as sns"
      ],
      "metadata": {
        "execution": {
          "iopub.status.busy": "2024-06-08T10:28:16.187538Z",
          "iopub.execute_input": "2024-06-08T10:28:16.188359Z",
          "iopub.status.idle": "2024-06-08T10:28:16.193303Z",
          "shell.execute_reply.started": "2024-06-08T10:28:16.188324Z",
          "shell.execute_reply": "2024-06-08T10:28:16.192044Z"
        },
        "trusted": true,
        "id": "lebMeMFiAP4w"
      },
      "execution_count": null,
      "outputs": []
    },
    {
      "cell_type": "markdown",
      "source": [
        "<div style=\"background-color:lightblue; padding:20px; text-align:center; font-weight: bold;\">\n",
        "    <h1>Remove warnings:</h1>\n",
        "</div>\n"
      ],
      "metadata": {
        "id": "ZR6bjpMGAP4x"
      }
    },
    {
      "cell_type": "code",
      "source": [
        "import warnings\n",
        "warnings.simplefilter(\"ignore\")"
      ],
      "metadata": {
        "execution": {
          "iopub.status.busy": "2024-06-08T10:28:16.199568Z",
          "iopub.execute_input": "2024-06-08T10:28:16.199896Z",
          "iopub.status.idle": "2024-06-08T10:28:16.207041Z",
          "shell.execute_reply.started": "2024-06-08T10:28:16.199869Z",
          "shell.execute_reply": "2024-06-08T10:28:16.206047Z"
        },
        "trusted": true,
        "id": "h-DTxnp4AP4x"
      },
      "execution_count": null,
      "outputs": []
    },
    {
      "cell_type": "markdown",
      "source": [
        "<div style=\"background-color:lightblue; padding:20px; text-align:center; font-weight: bold;\">\n",
        "    <h1>Display all columns and rows in the output :</h1>\n",
        "</div>\n"
      ],
      "metadata": {
        "id": "0KRUfbbVAP4y"
      }
    },
    {
      "cell_type": "code",
      "source": [
        "pd.set_option(\"display.max_columns\",None)\n",
        "pd.set_option('display.max_rows',None)\n"
      ],
      "metadata": {
        "execution": {
          "iopub.status.busy": "2024-06-08T10:28:16.21207Z",
          "iopub.execute_input": "2024-06-08T10:28:16.212414Z",
          "iopub.status.idle": "2024-06-08T10:28:16.220214Z",
          "shell.execute_reply.started": "2024-06-08T10:28:16.212389Z",
          "shell.execute_reply": "2024-06-08T10:28:16.219235Z"
        },
        "trusted": true,
        "id": "uN3h3iNgAP4y"
      },
      "execution_count": null,
      "outputs": []
    },
    {
      "cell_type": "markdown",
      "source": [
        "<div style=\"background-color:lightblue; padding:20px; text-align:center; font-weight: bold;\">\n",
        "    <h1>Load our data :</h1>\n",
        "</div>\n"
      ],
      "metadata": {
        "id": "hsu90Q6EAP4y"
      }
    },
    {
      "cell_type": "code",
      "source": [
        "df=pd.read_csv('/kaggle/input/telco-customer-churn/WA_Fn-UseC_-Telco-Customer-Churn.csv')"
      ],
      "metadata": {
        "execution": {
          "iopub.status.busy": "2024-06-08T10:28:16.225317Z",
          "iopub.execute_input": "2024-06-08T10:28:16.225629Z",
          "iopub.status.idle": "2024-06-08T10:28:16.263481Z",
          "shell.execute_reply.started": "2024-06-08T10:28:16.225604Z",
          "shell.execute_reply": "2024-06-08T10:28:16.26251Z"
        },
        "trusted": true,
        "id": "o2rE_bNhAP4z"
      },
      "execution_count": null,
      "outputs": []
    },
    {
      "cell_type": "markdown",
      "source": [
        "<div style=\"background-color:lightblue; padding:20px; text-align:center; font-weight: bold;\">\n",
        "    <h1>Let's have imformation about the dataset:</h1>\n",
        "</div>\n"
      ],
      "metadata": {
        "id": "Qg5l89cPAP4z"
      }
    },
    {
      "cell_type": "code",
      "source": [
        "df.head()"
      ],
      "metadata": {
        "execution": {
          "iopub.status.busy": "2024-06-08T10:28:16.265175Z",
          "iopub.execute_input": "2024-06-08T10:28:16.265528Z",
          "iopub.status.idle": "2024-06-08T10:28:16.286233Z",
          "shell.execute_reply.started": "2024-06-08T10:28:16.265502Z",
          "shell.execute_reply": "2024-06-08T10:28:16.285065Z"
        },
        "trusted": true,
        "id": "AKl7rTF7AP4z"
      },
      "execution_count": null,
      "outputs": []
    },
    {
      "cell_type": "code",
      "source": [
        "# i will drop this column because it isn't useful\n",
        "df.drop(columns=['customerID'], inplace=True)\n"
      ],
      "metadata": {
        "execution": {
          "iopub.status.busy": "2024-06-08T10:28:16.287459Z",
          "iopub.execute_input": "2024-06-08T10:28:16.287743Z",
          "iopub.status.idle": "2024-06-08T10:28:16.297498Z",
          "shell.execute_reply.started": "2024-06-08T10:28:16.28772Z",
          "shell.execute_reply": "2024-06-08T10:28:16.296541Z"
        },
        "trusted": true,
        "id": "ltWqhr1dAP4z"
      },
      "execution_count": null,
      "outputs": []
    },
    {
      "cell_type": "code",
      "source": [
        "#show number of rows and columns\n",
        "df.shape"
      ],
      "metadata": {
        "execution": {
          "iopub.status.busy": "2024-06-08T10:28:16.299813Z",
          "iopub.execute_input": "2024-06-08T10:28:16.300629Z",
          "iopub.status.idle": "2024-06-08T10:28:16.308097Z",
          "shell.execute_reply.started": "2024-06-08T10:28:16.3006Z",
          "shell.execute_reply": "2024-06-08T10:28:16.307169Z"
        },
        "trusted": true,
        "id": "jhuHjJnRAP40"
      },
      "execution_count": null,
      "outputs": []
    },
    {
      "cell_type": "code",
      "source": [
        "#show datatype and count non null values\n",
        "df.info()"
      ],
      "metadata": {
        "execution": {
          "iopub.status.busy": "2024-06-08T10:28:16.309237Z",
          "iopub.execute_input": "2024-06-08T10:28:16.309562Z",
          "iopub.status.idle": "2024-06-08T10:28:16.330187Z",
          "shell.execute_reply.started": "2024-06-08T10:28:16.309538Z",
          "shell.execute_reply": "2024-06-08T10:28:16.329177Z"
        },
        "trusted": true,
        "id": "Lwv1XfekAP40"
      },
      "execution_count": null,
      "outputs": []
    },
    {
      "cell_type": "markdown",
      "source": [
        "* After i see datatypes of features,there are some columns need to modefy their type"
      ],
      "metadata": {
        "id": "4P-fYnZxAP40"
      }
    },
    {
      "cell_type": "code",
      "source": [
        "# Convert 'TotalCharges' to numeric, setting errors='coerce' to handle spaces and non-numeric values\n",
        "df['TotalCharges'] = pd.to_numeric(df['TotalCharges'], errors='coerce')\n"
      ],
      "metadata": {
        "execution": {
          "iopub.status.busy": "2024-06-08T10:28:16.33162Z",
          "iopub.execute_input": "2024-06-08T10:28:16.331987Z",
          "iopub.status.idle": "2024-06-08T10:28:16.342591Z",
          "shell.execute_reply.started": "2024-06-08T10:28:16.331954Z",
          "shell.execute_reply": "2024-06-08T10:28:16.341581Z"
        },
        "trusted": true,
        "id": "eoAX2ujnAP40"
      },
      "execution_count": null,
      "outputs": []
    },
    {
      "cell_type": "code",
      "source": [
        "# Columns suitable for conversion to categorical\n",
        "categorical_cols = [\n",
        "    'gender', 'SeniorCitizen', 'Partner', 'Dependents', 'PhoneService',\n",
        "    'MultipleLines', 'InternetService', 'OnlineSecurity', 'OnlineBackup',\n",
        "    'DeviceProtection', 'TechSupport', 'StreamingTV', 'StreamingMovies',\n",
        "    'Contract', 'PaperlessBilling', 'PaymentMethod', 'Churn'\n",
        "]\n",
        "\n",
        "# Convert each column to categorical\n",
        "for col in categorical_cols:\n",
        "    df[col] = df[col].astype('category')"
      ],
      "metadata": {
        "execution": {
          "iopub.status.busy": "2024-06-08T10:28:16.344923Z",
          "iopub.execute_input": "2024-06-08T10:28:16.345791Z",
          "iopub.status.idle": "2024-06-08T10:28:16.371802Z",
          "shell.execute_reply.started": "2024-06-08T10:28:16.345756Z",
          "shell.execute_reply": "2024-06-08T10:28:16.370998Z"
        },
        "trusted": true,
        "id": "gtlnCAvcAP40"
      },
      "execution_count": null,
      "outputs": []
    },
    {
      "cell_type": "code",
      "source": [
        "df.info()"
      ],
      "metadata": {
        "execution": {
          "iopub.status.busy": "2024-06-08T10:28:16.4244Z",
          "iopub.execute_input": "2024-06-08T10:28:16.425036Z",
          "iopub.status.idle": "2024-06-08T10:28:16.442425Z",
          "shell.execute_reply.started": "2024-06-08T10:28:16.425006Z",
          "shell.execute_reply": "2024-06-08T10:28:16.441446Z"
        },
        "trusted": true,
        "id": "cfGpPh0VAP41"
      },
      "execution_count": null,
      "outputs": []
    },
    {
      "cell_type": "code",
      "source": [
        "#show if there are full duplicates\n",
        "df.duplicated().sum()"
      ],
      "metadata": {
        "execution": {
          "iopub.status.busy": "2024-06-08T10:28:16.444324Z",
          "iopub.execute_input": "2024-06-08T10:28:16.444656Z",
          "iopub.status.idle": "2024-06-08T10:28:16.459364Z",
          "shell.execute_reply.started": "2024-06-08T10:28:16.444626Z",
          "shell.execute_reply": "2024-06-08T10:28:16.458268Z"
        },
        "trusted": true,
        "id": "fsVCjKk-AP41"
      },
      "execution_count": null,
      "outputs": []
    },
    {
      "cell_type": "markdown",
      "source": [
        "* there are duplicates i will drop them"
      ],
      "metadata": {
        "id": "AvkWxh6xAP41"
      }
    },
    {
      "cell_type": "code",
      "source": [
        "# Drop full duplicates\n",
        "df.drop_duplicates(inplace=True)\n"
      ],
      "metadata": {
        "execution": {
          "iopub.status.busy": "2024-06-08T10:28:16.460533Z",
          "iopub.execute_input": "2024-06-08T10:28:16.461518Z",
          "iopub.status.idle": "2024-06-08T10:28:16.471187Z",
          "shell.execute_reply.started": "2024-06-08T10:28:16.461483Z",
          "shell.execute_reply": "2024-06-08T10:28:16.470373Z"
        },
        "trusted": true,
        "id": "XYI6cHnaAP41"
      },
      "execution_count": null,
      "outputs": []
    },
    {
      "cell_type": "code",
      "source": [
        "nans = df.isna().sum().sort_values(ascending=False)\n",
        "pct = 100 * nans / df.shape[0]\n",
        "nan_stats = pd.concat([nans, pct], axis=1)\n",
        "nan_stats.columns = ['num_of_nans', 'percentage_of_nans']\n",
        "nan_stats\n"
      ],
      "metadata": {
        "execution": {
          "iopub.status.busy": "2024-06-08T10:28:16.4725Z",
          "iopub.execute_input": "2024-06-08T10:28:16.472834Z",
          "iopub.status.idle": "2024-06-08T10:28:16.488728Z",
          "shell.execute_reply.started": "2024-06-08T10:28:16.472809Z",
          "shell.execute_reply": "2024-06-08T10:28:16.487716Z"
        },
        "trusted": true,
        "id": "XoQ15L2WAP41"
      },
      "execution_count": null,
      "outputs": []
    },
    {
      "cell_type": "markdown",
      "source": [
        "* TotalCharges column has 11 nans , it is a small number so i will drop them"
      ],
      "metadata": {
        "id": "cXLWkbMbAP41"
      }
    },
    {
      "cell_type": "code",
      "source": [
        "df.dropna(subset=['TotalCharges'], inplace=True)\n"
      ],
      "metadata": {
        "execution": {
          "iopub.status.busy": "2024-06-08T10:28:16.491816Z",
          "iopub.execute_input": "2024-06-08T10:28:16.492494Z",
          "iopub.status.idle": "2024-06-08T10:28:16.503117Z",
          "shell.execute_reply.started": "2024-06-08T10:28:16.492458Z",
          "shell.execute_reply": "2024-06-08T10:28:16.502296Z"
        },
        "trusted": true,
        "id": "UWjd0-rgAP41"
      },
      "execution_count": null,
      "outputs": []
    },
    {
      "cell_type": "code",
      "source": [
        "# summary statistics od data\n",
        "df.describe()"
      ],
      "metadata": {
        "execution": {
          "iopub.status.busy": "2024-06-08T10:28:16.50467Z",
          "iopub.execute_input": "2024-06-08T10:28:16.5053Z",
          "iopub.status.idle": "2024-06-08T10:28:16.525385Z",
          "shell.execute_reply.started": "2024-06-08T10:28:16.505231Z",
          "shell.execute_reply": "2024-06-08T10:28:16.524306Z"
        },
        "trusted": true,
        "id": "BhFXmEENAP41"
      },
      "execution_count": null,
      "outputs": []
    },
    {
      "cell_type": "code",
      "source": [
        "# info about categorical variables\n",
        "df.describe(include=\"category\")"
      ],
      "metadata": {
        "execution": {
          "iopub.status.busy": "2024-06-08T10:28:16.526806Z",
          "iopub.execute_input": "2024-06-08T10:28:16.527719Z",
          "iopub.status.idle": "2024-06-08T10:28:16.569227Z",
          "shell.execute_reply.started": "2024-06-08T10:28:16.527682Z",
          "shell.execute_reply": "2024-06-08T10:28:16.568297Z"
        },
        "trusted": true,
        "id": "VJ-PNnblAP41"
      },
      "execution_count": null,
      "outputs": []
    },
    {
      "cell_type": "markdown",
      "source": [
        "<div style=\"background-color:lightblue; padding:20px; text-align:center; font-weight: bold;\">\n",
        "    <h1>EDA☎️:</h1>\n",
        "</div>\n"
      ],
      "metadata": {
        "id": "mfo281SnAP41"
      }
    },
    {
      "cell_type": "code",
      "source": [
        "# Define custom colors\n",
        "light_blue_color = '#ADD8E6'\n",
        "light_pink_color = '#FFB6C1'\n",
        "light_green_color = '#BDFCC9'\n",
        "light_purple_color = '#DAC4F7'\n",
        "# Create a color palette for pie charts\n",
        "palette = [light_blue_color, light_pink_color, light_green_color, light_purple_color]\n"
      ],
      "metadata": {
        "execution": {
          "iopub.status.busy": "2024-06-08T10:28:16.570423Z",
          "iopub.execute_input": "2024-06-08T10:28:16.570721Z",
          "iopub.status.idle": "2024-06-08T10:28:16.575845Z",
          "shell.execute_reply.started": "2024-06-08T10:28:16.570696Z",
          "shell.execute_reply": "2024-06-08T10:28:16.574881Z"
        },
        "trusted": true,
        "id": "TGxEyFRXAP41"
      },
      "execution_count": null,
      "outputs": []
    },
    {
      "cell_type": "code",
      "source": [
        "# Distribution of Churn\n",
        "fig, axes = plt.subplots(1, 2, figsize=(15, 6))\n",
        "status_counts = df['Churn'].value_counts()\n",
        "axes[0].pie(status_counts, labels=status_counts.index, autopct='%1.1f%%', startangle=90, colors=[light_blue_color, light_pink_color])\n",
        "axes[0].set_title('Distribution of Churn')\n",
        "sns.countplot(x='Churn', data=df, palette=[light_blue_color, light_pink_color], ax=axes[1])\n",
        "axes[1].set_title('Count Plot of Churn')\n",
        "\n",
        "plt.tight_layout()\n",
        "plt.show()"
      ],
      "metadata": {
        "execution": {
          "iopub.status.busy": "2024-06-08T10:28:16.576999Z",
          "iopub.execute_input": "2024-06-08T10:28:16.577406Z",
          "iopub.status.idle": "2024-06-08T10:28:16.886105Z",
          "shell.execute_reply.started": "2024-06-08T10:28:16.57738Z",
          "shell.execute_reply": "2024-06-08T10:28:16.885054Z"
        },
        "trusted": true,
        "id": "Teccka3XAP41"
      },
      "execution_count": null,
      "outputs": []
    },
    {
      "cell_type": "markdown",
      "source": [
        "* Based on the visualization of churn distribution, we observe that the percentage of customers who churned is approximately 26.5%, while the percentage of customers who did not churn is approximately 73.5%.\n",
        "\n",
        "* i have imbalanced data so i will deal with it\n"
      ],
      "metadata": {
        "id": "cdL9Nnn_AP41"
      }
    },
    {
      "cell_type": "code",
      "source": [
        "# devide categorical columns in listist to ease plot them\n",
        "customer_info = [\"gender\", \"SeniorCitizen\", \"Partner\", \"Dependents\"]\n",
        "services = [\"PhoneService\", \"MultipleLines\", \"InternetService\", \"OnlineSecurity\",\n",
        "            \"OnlineBackup\", \"DeviceProtection\", \"TechSupport\", \"StreamingTV\",\n",
        "            \"StreamingMovies\"]\n",
        "billing_info = [\"Contract\", \"PaperlessBilling\", \"PaymentMethod\"]"
      ],
      "metadata": {
        "execution": {
          "iopub.status.busy": "2024-06-08T10:28:16.887373Z",
          "iopub.execute_input": "2024-06-08T10:28:16.887686Z",
          "iopub.status.idle": "2024-06-08T10:28:16.892914Z",
          "shell.execute_reply.started": "2024-06-08T10:28:16.88766Z",
          "shell.execute_reply": "2024-06-08T10:28:16.891938Z"
        },
        "trusted": true,
        "id": "ke6sZG7LAP41"
      },
      "execution_count": null,
      "outputs": []
    },
    {
      "cell_type": "code",
      "source": [
        "# Plot customer info columns\n",
        "plt.figure(figsize=(15, 5))\n",
        "for i, col in enumerate(customer_info, 1):\n",
        "    plt.subplot(1, 4, i)\n",
        "    counts = df[col].value_counts(normalize=True)\n",
        "    plt.pie(counts, labels=counts.index, autopct='%1.1f%%', startangle=90, colors=palette)\n",
        "    plt.title(f'Customer Info: {col}')\n",
        "    plt.axis('equal')\n",
        "plt.tight_layout()\n",
        "plt.show()"
      ],
      "metadata": {
        "execution": {
          "iopub.status.busy": "2024-06-08T10:28:16.89414Z",
          "iopub.execute_input": "2024-06-08T10:28:16.89449Z",
          "iopub.status.idle": "2024-06-08T10:28:17.294752Z",
          "shell.execute_reply.started": "2024-06-08T10:28:16.894463Z",
          "shell.execute_reply": "2024-06-08T10:28:17.293486Z"
        },
        "trusted": true,
        "id": "irHOh68oAP41"
      },
      "execution_count": null,
      "outputs": []
    },
    {
      "cell_type": "code",
      "source": [
        "# Plot services columns\n",
        "plt.figure(figsize=(15, 5))\n",
        "for i, col in enumerate(services, 1):\n",
        "    plt.subplot(2, 5, i)\n",
        "    counts = df[col].value_counts(normalize=True)\n",
        "    plt.pie(counts, labels=counts.index, autopct='%1.1f%%', startangle=90, colors=palette)\n",
        "    plt.title(f'Services: {col}')\n",
        "    plt.axis('equal')\n",
        "plt.tight_layout()\n",
        "plt.show()"
      ],
      "metadata": {
        "execution": {
          "iopub.status.busy": "2024-06-08T10:28:17.300069Z",
          "iopub.execute_input": "2024-06-08T10:28:17.300883Z",
          "iopub.status.idle": "2024-06-08T10:28:18.186933Z",
          "shell.execute_reply.started": "2024-06-08T10:28:17.30084Z",
          "shell.execute_reply": "2024-06-08T10:28:18.185934Z"
        },
        "trusted": true,
        "id": "1w2PHQvAAP41"
      },
      "execution_count": null,
      "outputs": []
    },
    {
      "cell_type": "code",
      "source": [
        "# Plot billing info columns\n",
        "plt.figure(figsize=(15, 5))\n",
        "for i, col in enumerate(billing_info, 1):\n",
        "    plt.subplot(2, 4, i)\n",
        "    if col in ['MonthlyCharges', 'TotalCharges', 'tenure']:\n",
        "        sns.histplot(df[col], kde=True, color=light_blue_color)\n",
        "        plt.title(f'Billing Info: {col}')\n",
        "    else:\n",
        "        counts = df[col].value_counts(normalize=True)\n",
        "        plt.pie(counts, labels=counts.index, autopct='%1.1f%%', startangle=90, colors=palette)\n",
        "        plt.title(f'Billing Info: {col}')\n",
        "        plt.axis('equal')\n",
        "plt.tight_layout()\n",
        "plt.show()"
      ],
      "metadata": {
        "execution": {
          "iopub.status.busy": "2024-06-08T10:28:18.188435Z",
          "iopub.execute_input": "2024-06-08T10:28:18.188808Z",
          "iopub.status.idle": "2024-06-08T10:28:18.571081Z",
          "shell.execute_reply.started": "2024-06-08T10:28:18.188775Z",
          "shell.execute_reply": "2024-06-08T10:28:18.569971Z"
        },
        "trusted": true,
        "id": "mrPpyyK1AP41"
      },
      "execution_count": null,
      "outputs": []
    },
    {
      "cell_type": "code",
      "source": [
        "# Define numeric columns\n",
        "numeric_cols = ['tenure', 'MonthlyCharges', 'TotalCharges']\n",
        "\n",
        "num_rows = len(numeric_cols)\n",
        "num_cols = 2\n",
        "\n",
        "# Create subplots\n",
        "fig, axes = plt.subplots(num_rows, num_cols, figsize=(15, 5*num_rows))\n",
        "\n",
        "if num_rows == 1:\n",
        "    axes = axes.reshape(1, -1)\n",
        "for i, column in enumerate(numeric_cols):\n",
        "    # Box plot\n",
        "    sns.boxplot(x=df[column], ax=axes[i, 0], color=light_blue_color)\n",
        "    axes[i, 0].set_title(f'Boxplot of {column}')\n",
        "    axes[i, 0].set_xlabel(column)\n",
        "    # KDE plot\n",
        "    sns.kdeplot(data=df[column], ax=axes[i, 1], color=light_pink_color, fill=True)\n",
        "    axes[i, 1].set_title(f'KDE Plot of {column}')\n",
        "    axes[i, 1].set_xlabel(column)\n",
        "\n",
        "plt.tight_layout()\n",
        "plt.show()"
      ],
      "metadata": {
        "execution": {
          "iopub.status.busy": "2024-06-08T10:28:18.572713Z",
          "iopub.execute_input": "2024-06-08T10:28:18.573901Z",
          "iopub.status.idle": "2024-06-08T10:28:19.969687Z",
          "shell.execute_reply.started": "2024-06-08T10:28:18.573865Z",
          "shell.execute_reply": "2024-06-08T10:28:19.968666Z"
        },
        "trusted": true,
        "id": "Tpy1t15SAP42"
      },
      "execution_count": null,
      "outputs": []
    },
    {
      "cell_type": "code",
      "source": [
        "sns.pairplot(df, hue='Churn', palette='husl')\n",
        "\n",
        "plt.show()\n"
      ],
      "metadata": {
        "execution": {
          "iopub.status.busy": "2024-06-08T10:28:19.970838Z",
          "iopub.execute_input": "2024-06-08T10:28:19.971119Z",
          "iopub.status.idle": "2024-06-08T10:28:25.863205Z",
          "shell.execute_reply.started": "2024-06-08T10:28:19.971095Z",
          "shell.execute_reply": "2024-06-08T10:28:25.862238Z"
        },
        "trusted": true,
        "id": "WfCddClaAP42"
      },
      "execution_count": null,
      "outputs": []
    },
    {
      "cell_type": "markdown",
      "source": [
        "<div style=\"background-color:lightblue; padding:20px; text-align:center; font-weight: bold;\">\n",
        "    <h1>preprocessing:</h1>\n",
        "</div>"
      ],
      "metadata": {
        "id": "li_l7pUrAP42"
      }
    },
    {
      "cell_type": "code",
      "source": [
        "from sklearn.pipeline import Pipeline\n",
        "from sklearn.impute import SimpleImputer\n",
        "from sklearn.preprocessing import StandardScaler, OneHotEncoder\n",
        "from sklearn.compose import ColumnTransformer"
      ],
      "metadata": {
        "execution": {
          "iopub.status.busy": "2024-06-08T10:28:25.864531Z",
          "iopub.execute_input": "2024-06-08T10:28:25.864878Z",
          "iopub.status.idle": "2024-06-08T10:28:25.870115Z",
          "shell.execute_reply.started": "2024-06-08T10:28:25.864849Z",
          "shell.execute_reply": "2024-06-08T10:28:25.869109Z"
        },
        "trusted": true,
        "id": "IsAvK-bAAP4-"
      },
      "execution_count": null,
      "outputs": []
    },
    {
      "cell_type": "code",
      "source": [
        "# Replace values in the 'Churn' column\n",
        "df['Churn'] = df['Churn'].replace({'No': 0, 'Yes': 1})\n"
      ],
      "metadata": {
        "execution": {
          "iopub.status.busy": "2024-06-08T10:28:25.871402Z",
          "iopub.execute_input": "2024-06-08T10:28:25.871691Z",
          "iopub.status.idle": "2024-06-08T10:28:25.886431Z",
          "shell.execute_reply.started": "2024-06-08T10:28:25.871666Z",
          "shell.execute_reply": "2024-06-08T10:28:25.885268Z"
        },
        "trusted": true,
        "id": "4-_5ZTghAP4-"
      },
      "execution_count": null,
      "outputs": []
    },
    {
      "cell_type": "code",
      "source": [
        "# Define numeric and categorical features\n",
        "numeric_features = ['tenure', 'MonthlyCharges', 'TotalCharges']\n",
        "categorical_features = ['gender', 'SeniorCitizen', 'Partner', 'Dependents', 'PhoneService',\n",
        "                        'MultipleLines', 'InternetService', 'OnlineSecurity', 'OnlineBackup',\n",
        "                        'DeviceProtection', 'TechSupport', 'StreamingTV', 'StreamingMovies',\n",
        "                        'Contract', 'PaperlessBilling', 'PaymentMethod']"
      ],
      "metadata": {
        "execution": {
          "iopub.status.busy": "2024-06-08T10:28:25.887575Z",
          "iopub.execute_input": "2024-06-08T10:28:25.888069Z",
          "iopub.status.idle": "2024-06-08T10:28:25.897936Z",
          "shell.execute_reply.started": "2024-06-08T10:28:25.888042Z",
          "shell.execute_reply": "2024-06-08T10:28:25.896958Z"
        },
        "trusted": true,
        "id": "s0HFo7IAAP4-"
      },
      "execution_count": null,
      "outputs": []
    },
    {
      "cell_type": "code",
      "source": [
        "# Create preprocessing pipeline for numeric features\n",
        "numeric_transformer = Pipeline(steps=[\n",
        "    ('imputer', SimpleImputer(strategy='median')),\n",
        "    ('scaler', StandardScaler())\n",
        "])\n",
        "\n",
        "# Create preprocessing pipeline for categorical features\n",
        "categorical_transformer = Pipeline(steps=[\n",
        "    ('imputer', SimpleImputer(strategy='most_frequent')),\n",
        "    ('onehot', OneHotEncoder(handle_unknown='ignore'))\n",
        "])\n",
        "\n",
        "# Combine preprocessing steps for numeric and categorical features\n",
        "preprocessor = ColumnTransformer(\n",
        "    transformers=[\n",
        "        ('num', numeric_transformer, numeric_features),\n",
        "        ('cat', categorical_transformer, categorical_features)\n",
        "    ])"
      ],
      "metadata": {
        "execution": {
          "iopub.status.busy": "2024-06-08T10:28:25.89937Z",
          "iopub.execute_input": "2024-06-08T10:28:25.900017Z",
          "iopub.status.idle": "2024-06-08T10:28:25.912056Z",
          "shell.execute_reply.started": "2024-06-08T10:28:25.899982Z",
          "shell.execute_reply": "2024-06-08T10:28:25.911071Z"
        },
        "trusted": true,
        "id": "hGrY7b6oAP4-"
      },
      "execution_count": null,
      "outputs": []
    },
    {
      "cell_type": "markdown",
      "source": [
        "<div style=\"background-color:lightblue; padding:20px; text-align:center; font-weight: bold;\">\n",
        "    <h1>Modeling:</h1>\n",
        "</div>"
      ],
      "metadata": {
        "id": "gxY-hkDDAP4-"
      }
    },
    {
      "cell_type": "code",
      "source": [
        "from sklearn.model_selection import train_test_split, GridSearchCV\n",
        "from sklearn.pipeline import Pipeline, make_pipeline\n",
        "from imblearn.pipeline import Pipeline as ImbPipeline\n",
        "from sklearn.compose import ColumnTransformer\n",
        "from sklearn.preprocessing import StandardScaler, OneHotEncoder\n",
        "from sklearn.impute import SimpleImputer\n",
        "from sklearn.ensemble import RandomForestClassifier, VotingClassifier\n",
        "from sklearn.linear_model import LogisticRegression\n",
        "from sklearn.ensemble import GradientBoostingClassifier\n",
        "from imblearn.over_sampling import SMOTE\n",
        "from sklearn.metrics import roc_auc_score, f1_score, accuracy_score"
      ],
      "metadata": {
        "execution": {
          "iopub.status.busy": "2024-06-08T10:28:25.913681Z",
          "iopub.execute_input": "2024-06-08T10:28:25.913996Z",
          "iopub.status.idle": "2024-06-08T10:28:25.922771Z",
          "shell.execute_reply.started": "2024-06-08T10:28:25.913972Z",
          "shell.execute_reply": "2024-06-08T10:28:25.921909Z"
        },
        "trusted": true,
        "id": "skhHH_Z1AP4-"
      },
      "execution_count": null,
      "outputs": []
    },
    {
      "cell_type": "code",
      "source": [
        "# Define classifiers/models\n",
        "classifiers = [\n",
        "    ('logreg', LogisticRegression(max_iter=1000)),\n",
        "    ('rf', RandomForestClassifier()),\n",
        "    ('gbc', GradientBoostingClassifier())\n",
        "]"
      ],
      "metadata": {
        "execution": {
          "iopub.status.busy": "2024-06-08T10:28:25.924072Z",
          "iopub.execute_input": "2024-06-08T10:28:25.924535Z",
          "iopub.status.idle": "2024-06-08T10:28:25.933605Z",
          "shell.execute_reply.started": "2024-06-08T10:28:25.924503Z",
          "shell.execute_reply": "2024-06-08T10:28:25.932682Z"
        },
        "trusted": true,
        "id": "QCEKyUVeAP4-"
      },
      "execution_count": null,
      "outputs": []
    },
    {
      "cell_type": "code",
      "source": [
        "# Feature selection and Voting Classifier\n",
        "voting_clf = VotingClassifier(estimators=classifiers, voting='soft')\n"
      ],
      "metadata": {
        "execution": {
          "iopub.status.busy": "2024-06-08T10:28:25.934835Z",
          "iopub.execute_input": "2024-06-08T10:28:25.93565Z",
          "iopub.status.idle": "2024-06-08T10:28:25.942957Z",
          "shell.execute_reply.started": "2024-06-08T10:28:25.935617Z",
          "shell.execute_reply": "2024-06-08T10:28:25.942023Z"
        },
        "trusted": true,
        "id": "zVPGmnhmAP4-"
      },
      "execution_count": null,
      "outputs": []
    },
    {
      "cell_type": "code",
      "source": [
        "# Define features (X) and target variable (y)\n",
        "X = df.drop(columns=['Churn'])\n",
        "y = df['Churn']\n"
      ],
      "metadata": {
        "execution": {
          "iopub.status.busy": "2024-06-08T10:28:25.944274Z",
          "iopub.execute_input": "2024-06-08T10:28:25.944891Z",
          "iopub.status.idle": "2024-06-08T10:28:25.953578Z",
          "shell.execute_reply.started": "2024-06-08T10:28:25.944858Z",
          "shell.execute_reply": "2024-06-08T10:28:25.952642Z"
        },
        "trusted": true,
        "id": "K53TsjR6AP4-"
      },
      "execution_count": null,
      "outputs": []
    },
    {
      "cell_type": "code",
      "source": [
        "# Split data into train and test sets\n",
        "X_train, X_test, y_train, y_test = train_test_split(X, y, test_size=0.2, random_state=42)\n"
      ],
      "metadata": {
        "execution": {
          "iopub.status.busy": "2024-06-08T10:28:25.954804Z",
          "iopub.execute_input": "2024-06-08T10:28:25.95548Z",
          "iopub.status.idle": "2024-06-08T10:28:25.969308Z",
          "shell.execute_reply.started": "2024-06-08T10:28:25.955446Z",
          "shell.execute_reply": "2024-06-08T10:28:25.968314Z"
        },
        "trusted": true,
        "id": "k87bWFnYAP4-"
      },
      "execution_count": null,
      "outputs": []
    },
    {
      "cell_type": "code",
      "source": [
        "# Pipeline with SMOTE\n",
        "pipeline = ImbPipeline([\n",
        "    ('preprocessor', preprocessor),\n",
        "    ('smote', SMOTE()),\n",
        "    ('voting_clf', voting_clf)\n",
        "])\n"
      ],
      "metadata": {
        "execution": {
          "iopub.status.busy": "2024-06-08T10:28:25.970787Z",
          "iopub.execute_input": "2024-06-08T10:28:25.971142Z",
          "iopub.status.idle": "2024-06-08T10:28:25.976422Z",
          "shell.execute_reply.started": "2024-06-08T10:28:25.971111Z",
          "shell.execute_reply": "2024-06-08T10:28:25.97531Z"
        },
        "trusted": true,
        "id": "LLHrQOmmAP4-"
      },
      "execution_count": null,
      "outputs": []
    },
    {
      "cell_type": "code",
      "source": [
        "param_grid = {\n",
        "    'voting_clf__logreg__C': [0.1, 1.0, 10],\n",
        "    'voting_clf__rf__n_estimators': [50, 100, 200],\n",
        "    'voting_clf__gbc__learning_rate': [0.01, 0.1, 0.2]\n",
        "}\n"
      ],
      "metadata": {
        "execution": {
          "iopub.status.busy": "2024-06-08T10:28:25.977629Z",
          "iopub.execute_input": "2024-06-08T10:28:25.977941Z",
          "iopub.status.idle": "2024-06-08T10:28:25.986419Z",
          "shell.execute_reply.started": "2024-06-08T10:28:25.977918Z",
          "shell.execute_reply": "2024-06-08T10:28:25.985573Z"
        },
        "trusted": true,
        "id": "AVg91dLbAP4-"
      },
      "execution_count": null,
      "outputs": []
    },
    {
      "cell_type": "code",
      "source": [
        "grid_search = GridSearchCV(pipeline, param_grid, cv=5, scoring='roc_auc')\n",
        "grid_search.fit(X_train, y_train)"
      ],
      "metadata": {
        "execution": {
          "iopub.status.busy": "2024-06-08T10:28:25.987443Z",
          "iopub.execute_input": "2024-06-08T10:28:25.987717Z",
          "iopub.status.idle": "2024-06-08T10:35:25.883471Z",
          "shell.execute_reply.started": "2024-06-08T10:28:25.987694Z",
          "shell.execute_reply": "2024-06-08T10:35:25.882324Z"
        },
        "trusted": true,
        "id": "ak5-lMtxAP4_"
      },
      "execution_count": null,
      "outputs": []
    },
    {
      "cell_type": "code",
      "source": [
        "# Best parameters and estimator\n",
        "print(\"Best parameters found: \", grid_search.best_params_)\n",
        "best_estimator = grid_search.best_estimator_"
      ],
      "metadata": {
        "execution": {
          "iopub.status.busy": "2024-06-08T10:35:25.884677Z",
          "iopub.execute_input": "2024-06-08T10:35:25.884962Z",
          "iopub.status.idle": "2024-06-08T10:35:25.891049Z",
          "shell.execute_reply.started": "2024-06-08T10:35:25.884938Z",
          "shell.execute_reply": "2024-06-08T10:35:25.889918Z"
        },
        "trusted": true,
        "id": "XypwlGSeAP4_"
      },
      "execution_count": null,
      "outputs": []
    },
    {
      "cell_type": "code",
      "source": [
        "\n",
        "# Predictions\n",
        "y_pred = best_estimator.predict(X_test)\n"
      ],
      "metadata": {
        "execution": {
          "iopub.status.busy": "2024-06-08T10:35:25.892368Z",
          "iopub.execute_input": "2024-06-08T10:35:25.892651Z",
          "iopub.status.idle": "2024-06-08T10:35:26.02313Z",
          "shell.execute_reply.started": "2024-06-08T10:35:25.892627Z",
          "shell.execute_reply": "2024-06-08T10:35:26.021926Z"
        },
        "trusted": true,
        "id": "4H04UgLaAP4_"
      },
      "execution_count": null,
      "outputs": []
    },
    {
      "cell_type": "code",
      "source": [
        "# Evaluation\n",
        "roc_auc = roc_auc_score(y_test, y_pred)\n",
        "f1 = f1_score(y_test, y_pred)\n",
        "accuracy = accuracy_score(y_test, y_pred)\n",
        "print(f\"ROC AUC: {roc_auc:.2f}\")\n",
        "print(f\"F1 Score: {f1:.2f}\")\n",
        "print(f\"Accuracy: {accuracy:.2f}\")"
      ],
      "metadata": {
        "execution": {
          "iopub.status.busy": "2024-06-08T10:35:26.024847Z",
          "iopub.execute_input": "2024-06-08T10:35:26.025572Z",
          "iopub.status.idle": "2024-06-08T10:35:26.041748Z",
          "shell.execute_reply.started": "2024-06-08T10:35:26.02553Z",
          "shell.execute_reply": "2024-06-08T10:35:26.040469Z"
        },
        "trusted": true,
        "id": "gryRsPmmAP4_"
      },
      "execution_count": null,
      "outputs": []
    }
  ]
}