{
  "metadata": {
    "kernelspec": {
      "language": "python",
      "display_name": "Python 3",
      "name": "python3"
    },
    "language_info": {
      "name": "python",
      "version": "3.11.11",
      "mimetype": "text/x-python",
      "codemirror_mode": {
        "name": "ipython",
        "version": 3
      },
      "pygments_lexer": "ipython3",
      "nbconvert_exporter": "python",
      "file_extension": ".py"
    },
    "kaggle": {
      "accelerator": "none",
      "dataSources": [
        {
          "sourceId": 18858,
          "sourceType": "datasetVersion",
          "datasetId": 13996
        }
      ],
      "dockerImageVersionId": 31040,
      "isInternetEnabled": true,
      "language": "python",
      "sourceType": "notebook",
      "isGpuEnabled": false
    },
    "colab": {
      "name": "Telco Customer Churn  ",
      "provenance": [],
      "include_colab_link": true
    }
  },
  "nbformat_minor": 0,
  "nbformat": 4,
  "cells": [
    {
      "cell_type": "markdown",
      "metadata": {
        "id": "view-in-github",
        "colab_type": "text"
      },
      "source": [
        "<a href=\"https://colab.research.google.com/github/nguyenhson03/Telco-Customer-churn/blob/main/Telco_Customer_Churn.ipynb\" target=\"_parent\"><img src=\"https://colab.research.google.com/assets/colab-badge.svg\" alt=\"Open In Colab\"/></a>"
      ]
    },
    {
      "source": [
        "# IMPORTANT: RUN THIS CELL IN ORDER TO IMPORT YOUR KAGGLE DATA SOURCES,\n",
        "# THEN FEEL FREE TO DELETE THIS CELL.\n",
        "# NOTE: THIS NOTEBOOK ENVIRONMENT DIFFERS FROM KAGGLE'S PYTHON\n",
        "# ENVIRONMENT SO THERE MAY BE MISSING LIBRARIES USED BY YOUR\n",
        "# NOTEBOOK.\n",
        "import kagglehub\n",
        "blastchar_telco_customer_churn_path = kagglehub.dataset_download('blastchar/telco-customer-churn')\n",
        "\n",
        "print('Data source import complete.')\n"
      ],
      "metadata": {
        "id": "NvTSPd3tiGv7"
      },
      "cell_type": "code",
      "outputs": [],
      "execution_count": null
    },
    {
      "cell_type": "markdown",
      "source": [
        "# 📊 Telco Customer Churn  \n",
        "\n",
        "## 📌 About Dataset  \n",
        "_\"Predict behavior to retain customers. You can analyze all relevant customer data and develop focused customer retention programs.\"_  \n",
        "📍 **Source:** [IBM Sample Data Sets](https://community.ibm.com/community/user/businessanalytics/blogs/steven-macko/2019/07/11/telco-customer-churn-1113)  \n",
        "\n",
        "This dataset provides insights into **customer churn**—helping businesses understand why customers leave and how to improve retention strategies.  \n",
        "\n",
        "---\n",
        "\n",
        "## 📄 Content  \n",
        "Each row represents a **customer**, and each column describes customer **attributes**.  \n",
        "\n",
        "### 🔹 The dataset includes:  \n",
        "- **Churn Status** – Whether the customer left within the last month 🏃‍♂️  \n",
        "- **Services Signed Up** – Phone, multiple lines, internet, online security, backups, device protection, tech support, and streaming services 📡  \n",
        "- **Account Details** – Tenure, contract type, payment method, paperless billing, monthly charges, and total charges 💳  \n",
        "- **Demographics** – Gender, age range, presence of partners & dependents 👨‍👩‍👧‍👦  \n",
        "\n",
        "---\n",
        "\n",
        "## 💡 Inspiration  \n",
        "- 🔍 What insights can be gained from different **customer behaviors**?  \n",
        "- 📈 Can we predict churn based on features such as **location, pricing, and reviews**?  \n",
        "- 🏆 Which hosts/customers are the busiest and why?  \n",
        "- 🏙️ Are there noticeable differences in **customer retention** across regions?  \n",
        "\n",
        "---\n",
        "\n",
        "## 🏷️ Key Features  \n",
        "| Feature | Description |\n",
        "|---------|------------|\n",
        "| **🆔 customerID** | Unique Customer ID |\n",
        "| **👤 gender** | Customer gender (Male/Female) |\n",
        "| **👴 SeniorCitizen** | Whether the customer is a senior (1 = Yes, 0 = No) |\n",
        "| **💑 Partner** | Whether the customer has a partner (Yes/No) |\n",
        "| **👶 Dependents** | Whether the customer has dependents (Yes/No) |\n",
        "| **📅 tenure** | Number of months the customer has stayed with the company |\n",
        "| **📞 PhoneService** | Whether the customer has phone service (Yes/No) |\n",
        "| **📡 MultipleLines** | Whether they have multiple lines (Yes/No) |\n",
        "| **🌐 InternetService** | Type of internet provider (DSL/Fiber optic/None) |\n",
        "| **🔐 OnlineSecurity** | Whether they have online security (Yes/No) |\n",
        "| **💰 MonthlyCharges** | Customer's monthly bill amount |\n",
        "| **💳 TotalCharges** | Total amount billed |\n",
        "| **📆 Contract** | Type of contract (Month-to-month, One-year, Two-year) |\n",
        "| **💵 PaymentMethod** | How the customer pays (Electronic check, Bank transfer, etc.) |\n",
        "| **📜 Churn** | Whether the customer has churned (Yes/No) |\n",
        "\n",
        "---\n",
        "\n"
      ],
      "metadata": {
        "_uuid": "8f2839f25d086af736a60e9eeb907d3b93b6e0e5",
        "_cell_guid": "b1076dfc-b9ad-4769-8c92-a6c4dae69d19",
        "id": "FFv1GrU_iGv_"
      }
    },
    {
      "cell_type": "markdown",
      "source": [
        "# 📊 Data Analysis: EDA & Visualization"
      ],
      "metadata": {
        "id": "9djGK_3WiGwB"
      }
    },
    {
      "cell_type": "code",
      "source": [
        "# Importing necessary libraries\n",
        "import pandas as pd\n",
        "import numpy as np\n",
        "import matplotlib.pyplot as plt\n",
        "import seaborn as sns\n",
        "\n",
        "# Load dataset\n",
        "file_path = \"/kaggle/input/telco-customer-churn/WA_Fn-UseC_-Telco-Customer-Churn.csv\"\n",
        "df = pd.read_csv(file_path)\n",
        "\n",
        "# Display basic information\n",
        "print(\"\\nDataset Overview:\")\n",
        "print(df.info())\n",
        "\n",
        "# Check missing values\n",
        "print(\"\\nMissing Values:\")\n",
        "print(df.isnull().sum())\n",
        "\n",
        "# Convert 'TotalCharges' to numeric (handling missing values)\n",
        "df['TotalCharges'] = pd.to_numeric(df['TotalCharges'], errors='coerce')\n",
        "df['TotalCharges'] = df['TotalCharges'].fillna(df['TotalCharges'].median())\n",
        "\n",
        "# Customer Churn distribution\n",
        "plt.figure(figsize=(7, 4))\n",
        "sns.countplot(x=df['Churn'], palette='coolwarm')\n",
        "plt.title(\"Customer Churn Distribution\")\n",
        "plt.xlabel(\"Churn\")\n",
        "plt.ylabel(\"Count\")\n",
        "plt.show()\n",
        "\n",
        "# Correlation heatmap (excluding categorical variables)\n",
        "numeric_features = ['tenure', 'MonthlyCharges', 'TotalCharges']\n",
        "corr_matrix = df[numeric_features].corr()\n",
        "\n",
        "plt.figure(figsize=(7, 5))\n",
        "sns.heatmap(corr_matrix, annot=True, cmap=\"coolwarm\", fmt=\".2f\")\n",
        "plt.title(\"Correlation Between Numeric Features\")\n",
        "plt.show()\n",
        "\n",
        "# Monthly Charges distribution\n",
        "plt.figure(figsize=(10, 5))\n",
        "sns.histplot(df['MonthlyCharges'], bins=40, kde=True)\n",
        "plt.title(\"Monthly Charges Distribution\")\n",
        "plt.xlabel(\"Monthly Charges ($)\")\n",
        "plt.ylabel(\"Frequency\")\n",
        "plt.show()\n"
      ],
      "metadata": {
        "trusted": true,
        "execution": {
          "iopub.status.busy": "2025-05-30T15:23:56.602259Z",
          "iopub.execute_input": "2025-05-30T15:23:56.602813Z",
          "iopub.status.idle": "2025-05-30T15:24:03.023795Z",
          "shell.execute_reply.started": "2025-05-30T15:23:56.602778Z",
          "shell.execute_reply": "2025-05-30T15:24:03.022727Z"
        },
        "id": "03x9OHyLiGwB"
      },
      "outputs": [],
      "execution_count": null
    },
    {
      "cell_type": "markdown",
      "source": [
        "# 🤖 Machine Learning: Predicting Customer Churn"
      ],
      "metadata": {
        "id": "pgeCyUZbiGwC"
      }
    },
    {
      "cell_type": "code",
      "source": [
        "# Import ML libraries\n",
        "from sklearn.model_selection import train_test_split\n",
        "from sklearn.ensemble import RandomForestClassifier\n",
        "from sklearn.preprocessing import OneHotEncoder, StandardScaler\n",
        "from sklearn.pipeline import Pipeline\n",
        "from sklearn.impute import SimpleImputer\n",
        "from sklearn.metrics import accuracy_score, classification_report\n",
        "\n",
        "# Select relevant features\n",
        "features = ['tenure', 'MonthlyCharges', 'TotalCharges', 'Contract', 'PaymentMethod', 'InternetService']\n",
        "target = 'Churn'\n",
        "\n",
        "df = df.dropna(subset=[target])  # Remove missing values in target\n",
        "X = df[features]\n",
        "y = df[target].map({'Yes': 1, 'No': 0})  # Convert Churn to binary (1 for Yes, 0 for No)\n",
        "\n",
        "# Handling categorical data\n",
        "categorical_features = ['Contract', 'PaymentMethod', 'InternetService']\n",
        "numeric_features = ['tenure', 'MonthlyCharges', 'TotalCharges']\n",
        "\n",
        "# Preprocessing pipeline\n",
        "categorical_transformer = OneHotEncoder(handle_unknown='ignore')\n",
        "numeric_transformer = Pipeline(steps=[\n",
        "    ('imputer', SimpleImputer(strategy='median')),\n",
        "    ('scaler', StandardScaler())\n",
        "])\n",
        "\n",
        "# Combining transformers\n",
        "from sklearn.compose import ColumnTransformer\n",
        "preprocessor = ColumnTransformer(\n",
        "    transformers=[\n",
        "        ('num', numeric_transformer, numeric_features),\n",
        "        ('cat', categorical_transformer, categorical_features)\n",
        "    ])\n",
        "\n",
        "# Splitting data\n",
        "X_train, X_test, y_train, y_test = train_test_split(X, y, test_size=0.2, random_state=42)\n",
        "\n",
        "# Train a model\n",
        "model = Pipeline(steps=[\n",
        "    ('preprocessor', preprocessor),\n",
        "    ('classifier', RandomForestClassifier(n_estimators=100, random_state=42))\n",
        "])\n",
        "\n",
        "model.fit(X_train, y_train)\n",
        "\n",
        "# Predictions\n",
        "y_pred = model.predict(X_test)\n",
        "\n",
        "# Model evaluation\n",
        "accuracy = accuracy_score(y_test, y_pred)\n",
        "print(f\"Model Accuracy: {accuracy:.2f}\")\n",
        "\n",
        "print(\"\\nClassification Report:\")\n",
        "print(classification_report(y_test, y_pred))\n"
      ],
      "metadata": {
        "trusted": true,
        "execution": {
          "iopub.status.busy": "2025-05-30T15:24:03.026143Z",
          "iopub.execute_input": "2025-05-30T15:24:03.026458Z",
          "iopub.status.idle": "2025-05-30T15:24:04.625588Z",
          "shell.execute_reply.started": "2025-05-30T15:24:03.026432Z",
          "shell.execute_reply": "2025-05-30T15:24:04.624509Z"
        },
        "id": "qvkSOgzfiGwC"
      },
      "outputs": [],
      "execution_count": null
    }
  ]
}